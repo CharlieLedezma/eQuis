{
 "cells": [
  {
   "cell_type": "code",
   "execution_count": 2,
   "metadata": {},
   "outputs": [],
   "source": [
    "import numpy as np\n",
    "from sympy import symbols, IndexedBase, Sum, expand, lambdify, Function\n",
    "from sympy.abc import x, y, a, b, c, d\n",
    "import sympy as smp\n",
    "from sympy.physics.mechanics import dynamicsymbols, init_vprinting\n",
    "from sympy.abc import i, k, m, n, x"
   ]
  },
  {
   "cell_type": "code",
   "execution_count": 3,
   "metadata": {},
   "outputs": [
    {
     "data": {
      "text/latex": [
       "$\\displaystyle f{\\left(0 \\right)} + f{\\left(1 \\right)} + f{\\left(2 \\right)} + f{\\left(3 \\right)}$"
      ],
      "text/plain": [
       "f(0) + f(1) + f(2) + f(3)"
      ]
     },
     "execution_count": 3,
     "metadata": {},
     "output_type": "execute_result"
    }
   ],
   "source": [
    "f = Function('f')\n",
    "Sum(f(n), (n, 0, 3)).doit()"
   ]
  },
  {
   "cell_type": "code",
   "execution_count": 4,
   "metadata": {},
   "outputs": [
    {
     "data": {
      "text/latex": [
       "$\\displaystyle {g}_{0}^{2} + {g}_{1}^{2} + {g}_{2}^{2} + {g}_{3}^{2}$"
      ],
      "text/plain": [
       "g[0]**2 + g[1]**2 + g[2]**2 + g[3]**2"
      ]
     },
     "execution_count": 4,
     "metadata": {},
     "output_type": "execute_result"
    }
   ],
   "source": [
    "g = IndexedBase('g')\n",
    "Sum(g[n]**2, (n, 0, 3)).doit()"
   ]
  },
  {
   "cell_type": "code",
   "execution_count": 5,
   "metadata": {},
   "outputs": [],
   "source": [
    "#S = Sum(x**2, (x, a, b), (x, c, d))\n",
    "#S\n"
   ]
  },
  {
   "cell_type": "code",
   "execution_count": 6,
   "metadata": {},
   "outputs": [],
   "source": [
    "x = IndexedBase('x')\n",
    "y = IndexedBase('y')\n",
    "k,N,n, m, a, t= smp.symbols('k N n m a t')\n",
    "i = smp.symbols('i', integer=True)\n",
    "x_b=smp.Symbol('x_b') \n",
    "\n",
    "expr = Sum((m * x[i]**3 + a - y[i]) ** 2, (i, 1, n))"
   ]
  },
  {
   "cell_type": "code",
   "execution_count": 7,
   "metadata": {},
   "outputs": [
    {
     "data": {
      "text/latex": [
       "$\\displaystyle \\sum_{i=1}^{n} \\left(a + m {x}_{i}^{3} - {y}_{i}\\right)^{2}$"
      ],
      "text/plain": [
       "Sum((a + m*x[i]**3 - y[i])**2, (i, 1, n))"
      ]
     },
     "execution_count": 7,
     "metadata": {},
     "output_type": "execute_result"
    }
   ],
   "source": [
    "expr"
   ]
  },
  {
   "cell_type": "code",
   "execution_count": 8,
   "metadata": {},
   "outputs": [
    {
     "data": {
      "text/latex": [
       "$\\displaystyle \\sum_{i=1}^{n} 6 m \\left(a + m {x}_{i}^{3} - {y}_{i}\\right) {x}_{i}^{2}$"
      ],
      "text/plain": [
       "Sum(6*m*(a + m*x[i]**3 - y[i])*x[i]**2, (i, 1, n))"
      ]
     },
     "execution_count": 8,
     "metadata": {},
     "output_type": "execute_result"
    }
   ],
   "source": [
    "smp.diff(expr,x[i])"
   ]
  },
  {
   "cell_type": "markdown",
   "metadata": {},
   "source": [
    "Evaluate last funcion"
   ]
  },
  {
   "cell_type": "markdown",
   "metadata": {},
   "source": [
    "Subscript Definition"
   ]
  },
  {
   "cell_type": "code",
   "execution_count": 9,
   "metadata": {},
   "outputs": [
    {
     "data": {
      "text/latex": [
       "$\\displaystyle \\sum_{k=1}^{N} \\left({a}_{k} + {b}_{k}\\right)^{2}$"
      ],
      "text/plain": [
       "Sum((a[k] + b[k])**2, (k, 1, N))"
      ]
     },
     "execution_count": 9,
     "metadata": {},
     "output_type": "execute_result"
    }
   ],
   "source": [
    "a = IndexedBase('a')\n",
    "b = IndexedBase('b')\n",
    "suma = Sum((a[k] + b[k])**2,(k,1,N)).doit()\n",
    "suma"
   ]
  },
  {
   "cell_type": "code",
   "execution_count": 10,
   "metadata": {},
   "outputs": [
    {
     "data": {
      "text/latex": [
       "$\\displaystyle {a}_{1}^{2} + 2 {a}_{1} {b}_{1} + {a}_{2}^{2} + 2 {a}_{2} {b}_{2} + {a}_{3}^{2} + 2 {a}_{3} {b}_{3} + {a}_{4}^{2} + 2 {a}_{4} {b}_{4} + {b}_{1}^{2} + {b}_{2}^{2} + {b}_{3}^{2} + {b}_{4}^{2}$"
      ],
      "text/plain": [
       "a[1]**2 + 2*a[1]*b[1] + a[2]**2 + 2*a[2]*b[2] + a[3]**2 + 2*a[3]*b[3] + a[4]**2 + 2*a[4]*b[4] + b[1]**2 + b[2]**2 + b[3]**2 + b[4]**2"
      ]
     },
     "execution_count": 10,
     "metadata": {},
     "output_type": "execute_result"
    }
   ],
   "source": [
    "suma = Sum((a[k] + b[k])**2,(k,1,4)).doit()\n",
    "suma.expand()"
   ]
  },
  {
   "cell_type": "code",
   "execution_count": 11,
   "metadata": {},
   "outputs": [
    {
     "data": {
      "text/latex": [
       "$\\displaystyle {a}_{1}^{2} + 2 {a}_{1} {b}_{1} + {a}_{2}^{2} + 2 {a}_{2} {b}_{2} + {a}_{3}^{2} + 2 {a}_{3} {b}_{3} + {a}_{4}^{2} + 2 {a}_{4} {b}_{4} + {b}_{1}^{2} + {b}_{2}^{2} + {b}_{3}^{2} + {b}_{4}^{2}$"
      ],
      "text/plain": [
       "a[1]**2 + 2*a[1]*b[1] + a[2]**2 + 2*a[2]*b[2] + a[3]**2 + 2*a[3]*b[3] + a[4]**2 + 2*a[4]*b[4] + b[1]**2 + b[2]**2 + b[3]**2 + b[4]**2"
      ]
     },
     "execution_count": 11,
     "metadata": {},
     "output_type": "execute_result"
    }
   ],
   "source": [
    "suma.expand()"
   ]
  },
  {
   "cell_type": "code",
   "execution_count": 12,
   "metadata": {},
   "outputs": [
    {
     "data": {
      "text/latex": [
       "$\\displaystyle \\sum_{i=1}^{n} {x}_{i}^{6}$"
      ],
      "text/plain": [
       "Sum(x[i]**6, (i, 1, n))"
      ]
     },
     "execution_count": 12,
     "metadata": {},
     "output_type": "execute_result"
    }
   ],
   "source": [
    "#expr = Sum((m * x[i]**3 ) ** 2, (i, 1, n))\n",
    "expr = Sum((x[i]**3 ) ** 2, (i, 1, n))\n",
    "#smp.diff(expr,x[i])\n",
    "expr"
   ]
  },
  {
   "cell_type": "code",
   "execution_count": 13,
   "metadata": {},
   "outputs": [
    {
     "data": {
      "text/latex": [
       "$\\displaystyle \\sum_{i=1}^{n} 64$"
      ],
      "text/plain": [
       "Sum(64, (i, 1, n))"
      ]
     },
     "execution_count": 13,
     "metadata": {},
     "output_type": "execute_result"
    }
   ],
   "source": [
    "expr.replace(x[i],2)"
   ]
  },
  {
   "cell_type": "code",
   "execution_count": 14,
   "metadata": {},
   "outputs": [
    {
     "data": {
      "text/latex": [
       "$\\displaystyle \\sum_{i=1}^{n} {x}_{i}^{6}$"
      ],
      "text/plain": [
       "Sum(x[i]**6, (i, 1, n))"
      ]
     },
     "execution_count": 14,
     "metadata": {},
     "output_type": "execute_result"
    }
   ],
   "source": [
    "expr"
   ]
  },
  {
   "cell_type": "code",
   "execution_count": 63,
   "metadata": {},
   "outputs": [],
   "source": [
    "#expr.subs(m=5)\n",
    "#f = lambdify(x,expr)\n",
    "#b = np.array([1, 2, 3, 4])\n",
    "#f(b)"
   ]
  },
  {
   "cell_type": "code",
   "execution_count": 15,
   "metadata": {},
   "outputs": [
    {
     "data": {
      "text/latex": [
       "$\\displaystyle \\sum_{k=2}^{5} \\frac{1}{k}$"
      ],
      "text/plain": [
       "Sum(1/k, (k, 2, 5))"
      ]
     },
     "execution_count": 15,
     "metadata": {},
     "output_type": "execute_result"
    }
   ],
   "source": [
    "T = Sum(1/k, (k, 2, 5))\n",
    "T"
   ]
  },
  {
   "cell_type": "code",
   "execution_count": 16,
   "metadata": {},
   "outputs": [
    {
     "data": {
      "text/latex": [
       "$\\displaystyle 1.28333333333333$"
      ],
      "text/plain": [
       "1.28333333333333"
      ]
     },
     "execution_count": 16,
     "metadata": {},
     "output_type": "execute_result"
    }
   ],
   "source": [
    "T.doit().evalf()"
   ]
  },
  {
   "cell_type": "code",
   "execution_count": 17,
   "metadata": {},
   "outputs": [],
   "source": [
    "i, N, x, y = symbols(\"i, N, x, y\")"
   ]
  },
  {
   "cell_type": "code",
   "execution_count": null,
   "metadata": {},
   "outputs": [],
   "source": [
    "A = smp.IndexedBase('A')\n",
    "i = smp.Symbol('i', integer=True)\n",
    "N = smp.Symbol('N', integer=True)\n"
   ]
  }
 ],
 "metadata": {
  "kernelspec": {
   "display_name": "Python 3",
   "language": "python",
   "name": "python3"
  },
  "language_info": {
   "codemirror_mode": {
    "name": "ipython",
    "version": 3
   },
   "file_extension": ".py",
   "mimetype": "text/x-python",
   "name": "python",
   "nbconvert_exporter": "python",
   "pygments_lexer": "ipython3",
   "version": "3.10.12"
  }
 },
 "nbformat": 4,
 "nbformat_minor": 2
}
