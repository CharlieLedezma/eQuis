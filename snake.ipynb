{
 "cells": [
  {
   "cell_type": "code",
   "execution_count": 280,
   "metadata": {},
   "outputs": [],
   "source": [
    "import numpy as np\n",
    "import matplotlib.pyplot as plt\n",
    "#from scipy.integrate import odeint\n",
    "import sympy as smp\n",
    "#from matplotlib import animation\n",
    "#from matplotlib.animation import PillowWriter\n",
    "from IPython.display import Image\n",
    "from sympy.physics.mechanics import dynamicsymbols, init_vprinting\n",
    "import math\n",
    "from sympy import Sum, Indexed, lambdify,  factorial, oo, IndexedBase, Function\n"
   ]
  },
  {
   "cell_type": "code",
   "execution_count": 255,
   "metadata": {},
   "outputs": [],
   "source": [
    "#init_vprinting()"
   ]
  },
  {
   "cell_type": "code",
   "execution_count": 281,
   "metadata": {},
   "outputs": [],
   "source": [
    "#t, m, m_1, m_2, I_A, I_C1, L_1, L_2, l, g = smp.symbols('t, m, m_1, m_2, I_A, I_C1, L_1, L_2, l, g')\n",
    "beta_01, beta_12,gamma_01, gamma_12 = smp.symbols ('beta_01 beta_12 gamma_01 gamma_12')\n",
    "t, omega_1, omega_2 = smp.symbols ('t omega_1 omega_2')\n",
    "#x_i = smp.symbols('x_i')\n",
    "#x_b, y_b, x_i = smp.symbols('x_b y_b x_i', cls=smp.Function)\n",
    "x_b, y_b = smp.symbols('x_b y_b', cls=smp.Function)\n",
    "#omega_1, omega_2 = smp.symbols ('omega_1 omega_2')\n",
    "i, j, k = smp.symbols('i, j, k',integer=True)\n",
    "\n",
    "B = IndexedBase('B')\n",
    "l = IndexedBase('l')\n",
    "x = IndexedBase('x')"
   ]
  },
  {
   "cell_type": "code",
   "execution_count": 282,
   "metadata": {},
   "outputs": [],
   "source": [
    "beta_01 = 450   #Nms/rad\n",
    "beta_12 = 200   #Nms/rad\n",
    "gamma_01 = 300  #Nm/rad\n",
    "gamma_12 = 300  #Nm/rad\n",
    "q1f = smp.Rational(1,6)*math.pi\n",
    "q2f = smp.Rational(1,3)*math.pi"
   ]
  },
  {
   "cell_type": "markdown",
   "metadata": {},
   "source": [
    "Generalized Coordinates"
   ]
  },
  {
   "cell_type": "code",
   "execution_count": 283,
   "metadata": {},
   "outputs": [],
   "source": [
    "#theta_1 = smp.Symbol('theta_1')\n",
    "#theta_2 = smp.Symbol('theta_2')\n",
    "theta_1, theta_2, theta_3 = smp.symbols(r'\\theta_1 \\theta_2 \\theta_3', cls=smp.Function)\n"
   ]
  },
  {
   "cell_type": "markdown",
   "metadata": {},
   "source": [
    "Define $\\theta(t)$ and $\\dot{\\theta}(t)$ and $\\ddot{\\theta}(t)$"
   ]
  },
  {
   "cell_type": "code",
   "execution_count": 284,
   "metadata": {},
   "outputs": [],
   "source": [
    "theta_1 = theta_1(t)\n",
    "theta_2 = theta_2(t)\n",
    "theta_3 = theta_3(t)\n",
    "x_b = x_b(t)\n",
    "y_b = y_b(t)\n",
    "theta_1d = smp.diff(theta_1,t)\n",
    "theta_2d = smp.diff(theta_2,t)\n",
    "theta_1dd = smp.diff(theta_1d,t)\n",
    "theta_2dd = smp.diff(theta_2d,t)\n",
    "x_bd = smp.diff(x_b,t)\n",
    "y_bd = smp.diff(y_b,t)"
   ]
  },
  {
   "cell_type": "code",
   "execution_count": 285,
   "metadata": {},
   "outputs": [
    {
     "data": {
      "image/png": "[encoded data removed]",
      "text/latex": [
       "$\\displaystyle \\left( \\theta_{1}, \\  \\theta_{2}, \\  \\dot{\\theta}_{1}, \\  \\dot{\\theta}_{2}, \\  \\ddot{\\theta}_{1}, \\  \\ddot{\\theta}_{2}, \\  \\dot{x}_{b}, \\  \\dot{y}_{b}\\right)$"
      ],
      "text/plain": [
       "(\\theta₁, \\theta₂, \\thėta₁, \\thėta₂, \\thëta₁, \\thëta₂, x_̇b, y_̇b)"
      ]
     },
     "execution_count": 285,
     "metadata": {},
     "output_type": "execute_result"
    }
   ],
   "source": [
    "theta_1, theta_2, theta_1d, theta_2d, theta_1dd, theta_2dd, x_bd, y_bd"
   ]
  },
  {
   "cell_type": "code",
   "execution_count": 286,
   "metadata": {},
   "outputs": [],
   "source": [
    "#Sum(Indexed('x',i),(i,0,3))\n",
    "W = Sum(l[j]*smp.cos(B[j]), (j,1,i-1))\n",
    "Z = Sum(l[j]*smp.sin(B[j]), (j,1,i-1))"
   ]
  },
  {
   "cell_type": "code",
   "execution_count": 294,
   "metadata": {},
   "outputs": [],
   "source": [
    "#x_array = [0, 1, 2, 3, 4]\n",
    "#x_function = lambda index: x_array[index]"
   ]
  },
  {
   "cell_type": "code",
   "execution_count": 305,
   "metadata": {},
   "outputs": [],
   "source": [
    "x = x_bd + smp.diff(W,B[j])\n",
    "#x_function[1] = x_bd + smp.diff(W,B[j])\n",
    "y = y_bd + smp.diff(Z,B[j])"
   ]
  },
  {
   "cell_type": "code",
   "execution_count": 306,
   "metadata": {},
   "outputs": [
    {
     "data": {
      "image/png": "[encoded data removed]",
      "text/latex": [
       "$\\displaystyle \\dot{x}_{b} + \\sum_{j=1}^{i - 1} - \\sin{\\left({B}_{j} \\right)} {l}_{j}$"
      ],
      "text/plain": [
       "      i - 1                \n",
       "       ___                 \n",
       "       ╲                   \n",
       "        ╲                  \n",
       "x_̇b +   ╱   -sin(B[j])⋅l[j]\n",
       "       ╱                   \n",
       "       ‾‾‾                 \n",
       "      j = 1                "
      ]
     },
     "execution_count": 306,
     "metadata": {},
     "output_type": "execute_result"
    }
   ],
   "source": [
    "x"
   ]
  },
  {
   "cell_type": "code",
   "execution_count": 304,
   "metadata": {},
   "outputs": [],
   "source": [
    "#Sum(Indexed('x',t),(i,1,3))"
   ]
  },
  {
   "cell_type": "code",
   "execution_count": null,
   "metadata": {},
   "outputs": [],
   "source": [
    "#p = Function('p')\n",
    "Sum(x(i),(i,1,3)).doit()"
   ]
  },
  {
   "cell_type": "code",
   "execution_count": null,
   "metadata": {},
   "outputs": [],
   "source": [
    "#z2 = z.subs(x[i + 1], 2)"
   ]
  },
  {
   "cell_type": "markdown",
   "metadata": {},
   "source": [
    "Lambidicar"
   ]
  },
  {
   "cell_type": "code",
   "execution_count": null,
   "metadata": {},
   "outputs": [],
   "source": [
    "f = lambdify(B, s)\n",
    "b = np.array([1, 2, 3, 4])\n",
    "f(b)"
   ]
  }
 ],
 "metadata": {
  "kernelspec": {
   "display_name": "Python 3",
   "language": "python",
   "name": "python3"
  },
  "language_info": {
   "codemirror_mode": {
    "name": "ipython",
    "version": 3
   },
   "file_extension": ".py",
   "mimetype": "text/x-python",
   "name": "python",
   "nbconvert_exporter": "python",
   "pygments_lexer": "ipython3",
   "version": "3.10.12"
  }
 },
 "nbformat": 4,
 "nbformat_minor": 2
}
