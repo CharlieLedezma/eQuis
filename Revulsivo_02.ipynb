{
 "cells": [
  {
   "cell_type": "code",
   "execution_count": 1,
   "id": "06515e6b",
   "metadata": {},
   "outputs": [],
   "source": [
    "from sympy import *\n",
    "from sympy.physics.mechanics import *\n",
    "#https://math.stackexchange.com/questions/3014868/euler-lagrange-formalism-with-sympy"
   ]
  },
  {
   "cell_type": "code",
   "execution_count": 2,
   "id": "27fdf414",
   "metadata": {},
   "outputs": [],
   "source": [
    "m,g = symbols('m g', real=True)\n",
    "x   = dynamicsymbols('x')\n",
    "xd  = dynamicsymbols('x', 1)\n",
    "xdd = dynamicsymbols('x', 2)"
   ]
  },
  {
   "cell_type": "code",
   "execution_count": 3,
   "id": "ce942eeb",
   "metadata": {},
   "outputs": [],
   "source": [
    "T = 0.5 * m * xd ** 2\n",
    "U = m * g * x\n",
    "L = T - U"
   ]
  },
  {
   "cell_type": "code",
   "execution_count": 8,
   "id": "32864ca4",
   "metadata": {
    "scrolled": true
   },
   "outputs": [
    {
     "data": {
      "text/latex": [
       "$\\displaystyle g m + 1.0 m \\frac{d^{2}}{d t^{2}} x{\\left(t \\right)}$"
      ],
      "text/plain": [
       "g*m + 1.0*m*Derivative(x(t), (t, 2))"
      ]
     },
     "execution_count": 8,
     "metadata": {},
     "output_type": "execute_result"
    }
   ],
   "source": [
    "f = diff(diff(L, xd), 't') - diff(L, x)\n",
    "f"
   ]
  },
  {
   "attachments": {},
   "cell_type": "markdown",
   "id": "d3fd7745",
   "metadata": {},
   "source": [
    "# Representación Derivada (.)(.)"
   ]
  },
  {
   "cell_type": "code",
   "execution_count": 10,
   "id": "5d97bd58",
   "metadata": {},
   "outputs": [
    {
     "data": {
      "text/latex": [
       "$\\displaystyle x{\\left(t \\right)}$"
      ],
      "text/plain": [
       "x(t)"
      ]
     },
     "execution_count": 10,
     "metadata": {},
     "output_type": "execute_result"
    }
   ],
   "source": [
    "from sympy.physics.mechanics import dynamicsymbols, init_vprinting\n",
    "x, y = dynamicsymbols('x y')\n",
    "x"
   ]
  },
  {
   "cell_type": "code",
   "execution_count": 12,
   "id": "da591a12",
   "metadata": {},
   "outputs": [],
   "source": [
    "init_vprinting()"
   ]
  },
  {
   "cell_type": "code",
   "execution_count": 13,
   "id": "5946ab80",
   "metadata": {},
   "outputs": [
    {
     "data": {
      "image/png": "[encoded data removed]",
      "text/latex": [
       "$\\displaystyle x$"
      ],
      "text/plain": [
       "x"
      ]
     },
     "execution_count": 13,
     "metadata": {},
     "output_type": "execute_result"
    }
   ],
   "source": [
    "x"
   ]
  },
  {
   "cell_type": "code",
   "execution_count": 15,
   "id": "607adffc",
   "metadata": {},
   "outputs": [],
   "source": [
    "t = Symbol('t')"
   ]
  },
  {
   "cell_type": "code",
   "execution_count": 16,
   "id": "47d585a5",
   "metadata": {},
   "outputs": [
    {
     "data": {
      "image/png": "[encoded data removed]",
      "text/latex": [
       "$\\displaystyle \\dot{y}$"
      ],
      "text/plain": [
       "ẏ"
      ]
     },
     "execution_count": 16,
     "metadata": {},
     "output_type": "execute_result"
    }
   ],
   "source": [
    "diff(y,t)"
   ]
  },
  {
   "cell_type": "code",
   "execution_count": 17,
   "id": "206b35fd",
   "metadata": {},
   "outputs": [
    {
     "data": {
      "image/png": "[encoded data removed]",
      "text/latex": [
       "$\\displaystyle g m + 1.0 m \\ddot{x}$"
      ],
      "text/plain": [
       "g⋅m + 1.0⋅m⋅ẍ"
      ]
     },
     "execution_count": 17,
     "metadata": {},
     "output_type": "execute_result"
    }
   ],
   "source": [
    "f = diff(diff(L, xd), 't') - diff(L, x)\n",
    "f"
   ]
  },
  {
   "cell_type": "code",
   "execution_count": null,
   "id": "2e3b4c4d",
   "metadata": {},
   "outputs": [],
   "source": []
  }
 ],
 "metadata": {
  "kernelspec": {
   "display_name": "Python 3",
   "language": "python",
   "name": "python3"
  },
  "language_info": {
   "codemirror_mode": {
    "name": "ipython",
    "version": 3
   },
   "file_extension": ".py",
   "mimetype": "text/x-python",
   "name": "python",
   "nbconvert_exporter": "python",
   "pygments_lexer": "ipython3",
   "version": "3.10.12"
  }
 },
 "nbformat": 4,
 "nbformat_minor": 5
}
