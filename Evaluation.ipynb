{
 "cells": [
  {
   "cell_type": "code",
   "execution_count": 11,
   "metadata": {},
   "outputs": [],
   "source": [
    "import numpy as np\n",
    "import math\n",
    "import sympy as sym\n",
    "import matplotlib.pyplot as plt\n",
    "#from sympy import Float\n",
    "from scipy.integrate import odeint\n",
    "from scipy.integrate import solve_ivp\n"
   ]
  },
  {
   "cell_type": "code",
   "execution_count": 12,
   "metadata": {},
   "outputs": [],
   "source": [
    "m_1 = 1.0\n",
    "m_2 = 1.0\n",
    "I_1 = 1.0\n",
    "I_2 = 1.0\n",
    "l_1 = 1.0\n",
    "l_g1 = 0.5\n",
    "l_g2 = 0.5\n",
    "g = 9.8\n",
    "\n",
    "max_t = 20.0\n",
    "dt = 0.1"
   ]
  },
  {
   "cell_type": "code",
   "execution_count": 15,
   "metadata": {},
   "outputs": [],
   "source": [
    "theta_1 = sym.Symbol(\"theta_1\")\n",
    "theta_2 = sym.Symbol(\"theta_2\")\n",
    "dtheta_1 = sym.Symbol(\"dtheta_1\")\n",
    "dtheta_2 = sym.Symbol(\"dtheta_2\")"
   ]
  },
  {
   "cell_type": "code",
   "execution_count": 20,
   "metadata": {},
   "outputs": [],
   "source": [
    "#theta_1, dtheta_1, theta_2, dtheta_2 \n",
    "M_11 = 20\n",
    "M_12 = -1\n",
    "M_21 = 2\n",
    "M_22 = -3.3\n",
    "\n",
    "N_1 = 5\n",
    "N_2 = 1\n",
    "\n",
    "G_1 = -1\n",
    "G_2 = 7\n",
    "\n",
    "#define matrix\n",
    "M = np.array([[M_11, M_12],[M_21, M_22]])\n",
    "N = np.array([[N_1],[N_2]])\n",
    "G = np.array([[G_1],[G_2]])"
   ]
  },
  {
   "cell_type": "code",
   "execution_count": 21,
   "metadata": {},
   "outputs": [
    {
     "name": "stdout",
     "output_type": "stream",
     "text": [
      "[[20.  -1. ]\n",
      " [ 2.  -3.3]]\n"
     ]
    }
   ],
   "source": [
    "print(M)"
   ]
  }
 ],
 "metadata": {
  "kernelspec": {
   "display_name": "Python 3",
   "language": "python",
   "name": "python3"
  },
  "language_info": {
   "codemirror_mode": {
    "name": "ipython",
    "version": 3
   },
   "file_extension": ".py",
   "mimetype": "text/x-python",
   "name": "python",
   "nbconvert_exporter": "python",
   "pygments_lexer": "ipython3",
   "version": "3.10.12"
  }
 },
 "nbformat": 4,
 "nbformat_minor": 2
}
