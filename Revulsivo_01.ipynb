{
 "cells": [
  {
   "cell_type": "code",
   "execution_count": 1,
   "id": "80912825",
   "metadata": {},
   "outputs": [],
   "source": [
    "#https://www.youtube.com/watch?v=Py-fXYPEo4s\n",
    "import sympy\n",
    "from sympy import *\n",
    "import matplotlib.pyplot as plt\n",
    "from sympy.abc import t,p"
   ]
  },
  {
   "cell_type": "code",
   "execution_count": 2,
   "id": "aca6f873",
   "metadata": {},
   "outputs": [],
   "source": [
    "R,m1,m2,g,L =symbols(\"R,m1,m2,g,L\")\n",
    "x = Function('x')(t)\n",
    "#y = Function('y')(t)"
   ]
  },
  {
   "cell_type": "code",
   "execution_count": 3,
   "id": "616986b2",
   "metadata": {
    "scrolled": true
   },
   "outputs": [
    {
     "data": {
      "text/latex": [
       "$\\displaystyle L - \\pi R - x{\\left(t \\right)}$"
      ],
      "text/plain": [
       "L - pi*R - x(t)"
      ]
     },
     "execution_count": 3,
     "metadata": {},
     "output_type": "execute_result"
    }
   ],
   "source": [
    "y = -x + (L-pi*R)\n",
    "y"
   ]
  },
  {
   "cell_type": "code",
   "execution_count": 4,
   "id": "848e43ab",
   "metadata": {},
   "outputs": [
    {
     "data": {
      "text/latex": [
       "$\\displaystyle \\frac{m_{1} \\left(\\frac{d}{d t} x{\\left(t \\right)}\\right)^{2}}{2} + \\frac{m_{2} \\left(\\frac{d}{d t} x{\\left(t \\right)}\\right)^{2}}{2}$"
      ],
      "text/plain": [
       "m1*Derivative(x(t), t)**2/2 + m2*Derivative(x(t), t)**2/2"
      ]
     },
     "execution_count": 4,
     "metadata": {},
     "output_type": "execute_result"
    }
   ],
   "source": [
    "#Defining energies\n",
    "T = Rational(1/2)*m1*diff(x,t)**2 + Rational(1/2)*m2*diff(y,t)**2\n",
    "T"
   ]
  },
  {
   "cell_type": "code",
   "execution_count": 5,
   "id": "609d8b80",
   "metadata": {},
   "outputs": [
    {
     "data": {
      "text/latex": [
       "$\\displaystyle g m_{1} x{\\left(t \\right)} + g m_{2} \\left(L - \\pi R - x{\\left(t \\right)}\\right)$"
      ],
      "text/plain": [
       "g*m1*x(t) + g*m2*(L - pi*R - x(t))"
      ]
     },
     "execution_count": 5,
     "metadata": {},
     "output_type": "execute_result"
    }
   ],
   "source": [
    "U = m1*g*x + m2*g*y\n",
    "U"
   ]
  },
  {
   "cell_type": "code",
   "execution_count": null,
   "id": "7dbd7628",
   "metadata": {},
   "outputs": [
    {
     "data": {
      "text/latex": [
       "$\\displaystyle \\frac{m_{1} \\left(\\frac{d}{d t} x{\\left(t \\right)}\\right)^{2}}{2} + \\frac{m_{2} \\left(\\frac{d}{d t} x{\\left(t \\right)}\\right)^{2}}{2}$"
      ],
      "text/plain": [
       "m1*Derivative(x(t), t)**2/2 + m2*Derivative(x(t), t)**2/2"
      ]
     },
     "execution_count": 78,
     "metadata": {},
     "output_type": "execute_result"
    }
   ],
   "source": [
    "expand(T)"
   ]
  },
  {
   "cell_type": "code",
   "execution_count": 81,
   "id": "d6a9c1a8",
   "metadata": {
    "scrolled": true
   },
   "outputs": [
    {
     "data": {
      "text/latex": [
       "$\\displaystyle - g m_{1} x{\\left(t \\right)} - g m_{2} \\left(L - \\pi R - x{\\left(t \\right)}\\right) + \\frac{m_{1} \\left(\\frac{d}{d t} x{\\left(t \\right)}\\right)^{2}}{2} + \\frac{m_{2} \\left(\\frac{d}{d t} x{\\left(t \\right)}\\right)^{2}}{2}$"
      ],
      "text/plain": [
       "-g*m1*x(t) - g*m2*(L - pi*R - x(t)) + m1*Derivative(x(t), t)**2/2 + m2*Derivative(x(t), t)**2/2"
      ]
     },
     "execution_count": 81,
     "metadata": {},
     "output_type": "execute_result"
    }
   ],
   "source": [
    "#Lagrangian\n",
    "Lagr = T-U\n",
    "Lagr"
   ]
  },
  {
   "cell_type": "code",
   "execution_count": 82,
   "id": "d1176b25",
   "metadata": {},
   "outputs": [
    {
     "data": {
      "text/latex": [
       "$\\displaystyle - g m_{1} + g m_{2}$"
      ],
      "text/plain": [
       "-g*m1 + g*m2"
      ]
     },
     "execution_count": 82,
     "metadata": {},
     "output_type": "execute_result"
    }
   ],
   "source": [
    "#Lagrange Equations\n",
    "rhs = diff(Lagr,x)\n",
    "rhs"
   ]
  },
  {
   "cell_type": "code",
   "execution_count": 88,
   "id": "00f142e2",
   "metadata": {},
   "outputs": [
    {
     "data": {
      "text/latex": [
       "$\\displaystyle \\left(m_{1} + m_{2}\\right) \\frac{d^{2}}{d t^{2}} x{\\left(t \\right)}$"
      ],
      "text/plain": [
       "(m1 + m2)*Derivative(x(t), (t, 2))"
      ]
     },
     "execution_count": 88,
     "metadata": {},
     "output_type": "execute_result"
    }
   ],
   "source": [
    "lhs = simplify(diff(diff(Lagr,diff(x,t)),t))\n",
    "lhs "
   ]
  },
  {
   "cell_type": "code",
   "execution_count": 89,
   "id": "90ab021e",
   "metadata": {},
   "outputs": [
    {
     "data": {
      "text/latex": [
       "$\\displaystyle - g m_{1} + g m_{2} = \\left(m_{1} + m_{2}\\right) \\frac{d^{2}}{d t^{2}} x{\\left(t \\right)}$"
      ],
      "text/plain": [
       "Eq(-g*m1 + g*m2, (m1 + m2)*Derivative(x(t), (t, 2)))"
      ]
     },
     "execution_count": 89,
     "metadata": {},
     "output_type": "execute_result"
    }
   ],
   "source": [
    "#solution = sym.solve(sym.Eq(rhs,lhs),diff(x,t,2))\n",
    "Eq(rhs,lhs)"
   ]
  },
  {
   "cell_type": "code",
   "execution_count": 96,
   "id": "1a21646f",
   "metadata": {},
   "outputs": [
    {
     "data": {
      "text/latex": [
       "$\\displaystyle \\left\\{- \\frac{g m_{1} - g m_{2}}{m_{1} + m_{2}}\\right\\}$"
      ],
      "text/plain": [
       "FiniteSet(-(g*m1 - g*m2)/(m1 + m2))"
      ]
     },
     "execution_count": 96,
     "metadata": {},
     "output_type": "execute_result"
    }
   ],
   "source": [
    "solveset(Eq(rhs,lhs),diff(x,t,2))"
   ]
  },
  {
   "cell_type": "code",
   "execution_count": null,
   "id": "4027e931",
   "metadata": {},
   "outputs": [],
   "source": []
  }
 ],
 "metadata": {
  "kernelspec": {
   "display_name": "Python 3",
   "language": "python",
   "name": "python3"
  },
  "language_info": {
   "codemirror_mode": {
    "name": "ipython",
    "version": 3
   },
   "file_extension": ".py",
   "mimetype": "text/x-python",
   "name": "python",
   "nbconvert_exporter": "python",
   "pygments_lexer": "ipython3",
   "version": "3.10.6"
  }
 },
 "nbformat": 4,
 "nbformat_minor": 5
}
